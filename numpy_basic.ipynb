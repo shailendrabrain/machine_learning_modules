{
 "cells": [
  {
   "cell_type": "code",
   "execution_count": 24,
   "metadata": {},
   "outputs": [
    {
     "data": {
      "text/plain": [
       "array([[ 0,  1,  2],\n",
       "       [ 3,  4,  5],\n",
       "       [ 6,  7,  8],\n",
       "       [ 9, 10, 11]])"
      ]
     },
     "execution_count": 24,
     "metadata": {},
     "output_type": "execute_result"
    }
   ],
   "source": [
    "a=np.arange(0,12).reshape(4,3)\n",
    "a"
   ]
  },
  {
   "cell_type": "code",
   "execution_count": null,
   "metadata": {},
   "outputs": [],
   "source": [
    "#arange method in numpy take a parameter of number like 10 then it create one\n",
    "# dimension array  of size 10 data from 0 to 9"
   ]
  },
  {
   "cell_type": "code",
   "execution_count": 17,
   "metadata": {},
   "outputs": [
    {
     "data": {
      "text/plain": [
       "2"
      ]
     },
     "execution_count": 17,
     "metadata": {},
     "output_type": "execute_result"
    }
   ],
   "source": [
    "a=np.array([[1,2,3]])\n",
    "a.ndim\n"
   ]
  },
  {
   "cell_type": "code",
   "execution_count": null,
   "metadata": {},
   "outputs": [],
   "source": []
  },
  {
   "cell_type": "code",
   "execution_count": 2,
   "metadata": {},
   "outputs": [
    {
     "name": "stdout",
     "output_type": "stream",
     "text": [
      "[[1.         2.         3.         3.66666667]\n",
      " [3.         1.         4.33333333 5.        ]]\n"
     ]
    }
   ],
   "source": [
    "import numpy as np\n",
    "#concatenate\n",
    "a=np.array([[1,2],[3,1]])\n",
    "b=np.linspace(3,5,4).reshape(2,2)\n",
    "print(np.concatenate((a,b),axis=1))\n"
   ]
  },
  {
   "cell_type": "code",
   "execution_count": 3,
   "metadata": {},
   "outputs": [
    {
     "name": "stdout",
     "output_type": "stream",
     "text": [
      "11\n",
      "[[  0   1]\n",
      " [  4   9]\n",
      " [ 16  25]\n",
      " [ 36  49]\n",
      " [ 64  81]\n",
      " [100 121]]\n"
     ]
    }
   ],
   "source": [
    "a=np.arange(12)**2\n",
    "print(a.argmax())\n",
    "i=np.arange(0,12,1).reshape(6,2)\n",
    "print(a[i])"
   ]
  },
  {
   "cell_type": "code",
   "execution_count": 4,
   "metadata": {},
   "outputs": [
    {
     "name": "stdout",
     "output_type": "stream",
     "text": [
      "value of a [  0   1   4   9  16  25  36  49  64  81 100 121]\n",
      "(6, 2)\n"
     ]
    }
   ],
   "source": [
    "a=np.arange(12)**2\n",
    "print(\"value of a\",a)\n",
    "b=a.reshape(6,-1)\n",
    "#-1 mEAN it will adjust by default according to size\n",
    "print(b.shape)\n",
    "\n"
   ]
  },
  {
   "cell_type": "code",
   "execution_count": 5,
   "metadata": {},
   "outputs": [
    {
     "name": "stdout",
     "output_type": "stream",
     "text": [
      "a: [[5. 9.]\n",
      " [1. 9.]] \n",
      "b: [[3. 4.]\n",
      " [8. 4.]]\n",
      "vertical stacking:\n",
      " [[5. 9.]\n",
      " [1. 9.]\n",
      " [3. 4.]\n",
      " [8. 4.]]\n",
      "horizental stacking:\n",
      " [[5. 9. 3. 4.]\n",
      " [1. 9. 8. 4.]]\n",
      "(4, 2)    (2, 4)\n"
     ]
    }
   ],
   "source": [
    "#stacking together different arrays\n",
    "rg = np.random.default_rng(1)   \n",
    "a=np.floor(10*rg.random((2,2)))\n",
    "b=np.floor(10*rg.random((2,2)))\n",
    "print(\"a:\",a,\"\\nb:\",b)\n",
    "c=np.vstack((a,b)) #vertical stacking \n",
    "d=np.hstack((a,b))# horizental stacking\n",
    "print(\"vertical stacking:\\n\",c)\n",
    "print(\"horizental stacking:\\n\",d)\n",
    "print(c.shape,\"  \",d.shape)"
   ]
  },
  {
   "cell_type": "code",
   "execution_count": 35,
   "metadata": {},
   "outputs": [
    {
     "data": {
      "text/plain": [
       "array([[4., 2.],\n",
       "       [3., 8.]])"
      ]
     },
     "execution_count": 35,
     "metadata": {},
     "output_type": "execute_result"
    }
   ],
   "source": [
    "a = np.array([4.,2.])\n",
    "b = np.array([3.,8.])\n",
    "np.row_stack((a,b))  \n"
   ]
  },
  {
   "cell_type": "code",
   "execution_count": 7,
   "metadata": {},
   "outputs": [
    {
     "name": "stdout",
     "output_type": "stream",
     "text": [
      "[[0.51182162 0.9504637  0.14415961]\n",
      " [0.94864945 0.31183145 0.42332645]]\n"
     ]
    }
   ],
   "source": [
    "# default random number generator\n",
    "#\n",
    "rg = np.random.default_rng(1)   \n",
    "b=rg.random((2,3))   \n",
    "print(b)\n"
   ]
  },
  {
   "cell_type": "code",
   "execution_count": 8,
   "metadata": {},
   "outputs": [
    {
     "name": "stdout",
     "output_type": "stream",
     "text": [
      "[12.         12.76923077 13.53846154 14.30769231 15.07692308 15.84615385\n",
      " 16.61538462 17.38461538 18.15384615 18.92307692 19.69230769 20.46153846\n",
      " 21.23076923 22.         22.76923077 23.53846154 24.30769231 25.07692308\n",
      " 25.84615385 26.61538462 27.38461538 28.15384615 28.92307692 29.69230769\n",
      " 30.46153846 31.23076923 32.        ]\n",
      "[[12.         12.76923077 13.53846154]\n",
      " [14.30769231 15.07692308 15.84615385]\n",
      " [16.61538462 17.38461538 18.15384615]\n",
      " [18.92307692 19.69230769 20.46153846]\n",
      " [21.23076923 22.         22.76923077]\n",
      " [23.53846154 24.30769231 25.07692308]\n",
      " [25.84615385 26.61538462 27.38461538]\n",
      " [28.15384615 28.92307692 29.69230769]\n",
      " [30.46153846 31.23076923 32.        ]]\n"
     ]
    }
   ],
   "source": [
    "c=np.linspace(12,32,27).reshape(3,3,3)\n",
    "print(c.ravel())\n",
    "print(c.reshape(9,3))"
   ]
  },
  {
   "cell_type": "code",
   "execution_count": 9,
   "metadata": {},
   "outputs": [
    {
     "name": "stdout",
     "output_type": "stream",
     "text": [
      "every row\n",
      "[[12.         12.76923077 13.53846154]\n",
      " [14.30769231 15.07692308 15.84615385]\n",
      " [16.61538462 17.38461538 18.15384615]]\n",
      "every row\n",
      "[[18.92307692 19.69230769 20.46153846]\n",
      " [21.23076923 22.         22.76923077]\n",
      " [23.53846154 24.30769231 25.07692308]]\n",
      "every row\n",
      "[[25.84615385 26.61538462 27.38461538]\n",
      " [28.15384615 28.92307692 29.69230769]\n",
      " [30.46153846 31.23076923 32.        ]]\n"
     ]
    }
   ],
   "source": [
    "c=np.linspace(12,32,27).reshape(3,3,3)\n",
    "for row in c:\n",
    "    print(\"every row\")\n",
    "    print(row)\n",
    "\n",
    "\n",
    "\n",
    "    \n",
    "#print(c[1,...]) #same as c[1,:,:]"
   ]
  },
  {
   "cell_type": "code",
   "execution_count": 10,
   "metadata": {},
   "outputs": [
    {
     "name": "stdout",
     "output_type": "stream",
     "text": [
      "12.0\n",
      "12.76923076923077\n",
      "13.538461538461538\n",
      "14.307692307692308\n",
      "15.076923076923077\n",
      "15.846153846153847\n",
      "16.615384615384617\n",
      "17.384615384615387\n",
      "18.153846153846153\n",
      "18.923076923076923\n",
      "19.692307692307693\n",
      "20.46153846153846\n",
      "21.230769230769234\n",
      "22.0\n",
      "22.76923076923077\n",
      "23.53846153846154\n",
      "24.307692307692307\n",
      "25.07692307692308\n",
      "25.846153846153847\n",
      "26.615384615384617\n",
      "27.384615384615387\n",
      "28.153846153846153\n",
      "28.923076923076923\n",
      "29.692307692307693\n",
      "30.461538461538463\n",
      "31.230769230769234\n",
      "32.0\n"
     ]
    }
   ],
   "source": [
    "#flat\n",
    "c=np.linspace(12,32,27).reshape(3,3,3)\n",
    "for element in c.flat:\n",
    "    print(element)\n",
    "#to access every element in multidimension array"
   ]
  },
  {
   "cell_type": "code",
   "execution_count": 69,
   "metadata": {},
   "outputs": [
    {
     "name": "stdout",
     "output_type": "stream",
     "text": [
      "[  1   4   9  16  25  36  49  64  81 100 121 144 169 196 225 256 289 324\n",
      " 361]\n"
     ]
    }
   ],
   "source": [
    "a=np.arange(1,20)**2\n",
    "print(a)"
   ]
  },
  {
   "cell_type": "code",
   "execution_count": 32,
   "metadata": {},
   "outputs": [
    {
     "name": "stdout",
     "output_type": "stream",
     "text": [
      "[[-1  0  0  0  0  2  1  0  0  0  0  0  0  0  0  0  0  0  1  0  0  0 -1  0]\n",
      " [ 1  0 -2  0 -2  0  0  0 -1 -1  0  0  0 -3  0  0  1  0  0  0  1  1  0  0]\n",
      " [ 0  0  1  0  0  2  0  0  1  1  0  0  0  0 -2  0  0  0  1  1  0 -2  1  0]\n",
      " [ 0 -1  0 -2 -1  1 -1 -1  1  1  0  0  0 -1  0  0  0  1  0  0 -1  0 -1 -1]\n",
      " [ 0 -1  0 -1  0  0  0  0 -1  0  0  1 -1 -1 -1  0  0  0  0  0  0  1  0  0]\n",
      " [ 0  0  0  1  0  1  0  0  0  0  0  0  0  0  0  0  0  0  0  1  0  0  1  1]\n",
      " [ 0  0  0  0  0  0  0 -1  0  0  0 -1  0  0 -1  0  1  1  0  0  2  0  0  1]\n",
      " [ 0  0  0  0  0  1  2  0  0  1  0  0  1 -1  0  0 -1  0  0  0  0  1 -1  0]\n",
      " [-1 -1  0  0  0  0  0  0  0 -1  0  0  0 -1  1  0  0  0  0  2  0 -1  0  0]\n",
      " [ 0 -1  0  0 -2 -2  0  0  1  1  0 -1 -1  1 -1  0  0  0  0  0  2  0  0  0]\n",
      " [ 0  0  1  2  0 -1  0  0 -1  0 -1  0  0  0  0  0 -1  0  0  0  0  3  0  1]\n",
      " [ 0 -2  1  0  0  1  0  0  1  0  0  1  0 -2  0  0  0  0  0  0  0  2  0 -2]\n",
      " [ 0  0  0  0 -1  0  0  0  0  0 -1  0  1  0  0  0  1  0  0  0  0  0 -1  1]\n",
      " [ 0  0  0  0  0  0 -2  0  1 -1  1  0  0  0  0  0 -1  0  0  0  0 -1  0 -3]\n",
      " [ 0  0  0  0  0  0  0  0  0 -1 -1  2 -1  0  0 -2  0  0  0 -1  0 -1  1  0]\n",
      " [ 0  0  0  0 -1  0  0  0  0  0  0  0  0  0  0  0  0  0  0  0  0  0  1  2]\n",
      " [ 2  0  0 -1  0  0  0  0  0  0  0  2  3  0  2  2 -2 -1  0  2  0  0  0 -1]\n",
      " [ 0  0  0  0  0  0  0  0  0 -1  0  0  0  0  0  0  0  0  0  0 -1  0  0  0]\n",
      " [ 1  0 -1  0  0  0  0 -1  0  0  1  0  0  1  1  0  0  0  0  0  0  0  0  0]\n",
      " [ 0  0  0  0  0  0  0  0 -1  1 -1  0  0  0  0 -1  0  0  0  0  0 -1  0  0]\n",
      " [ 0  2 -1  0  0 -1  0  1  1  0  0  0  0  0  0  0  0  0  0 -1  1  0  0  0]\n",
      " [ 0  0  2  1  1  0  0  1  1  0  0  0  0  0  0  0  0 -1  0  0  0  0  0  0]\n",
      " [ 0 -1  0  0  0  0  0  1 -3  0  0  0  0  0  0  0  0  0  0  1  0  0  0  0]\n",
      " [ 0  0  0  0  0  0 -1  0  0  0 -1  0  0 -1  0  0  0  0  0 -1  1  0  0  0]]\n"
     ]
    },
    {
     "data": {
      "image/png": "[encoded data removed]",
      "text/plain": [
       "<Figure size 432x288 with 1 Axes>"
      ]
     },
     "metadata": {
      "needs_background": "light"
     },
     "output_type": "display_data"
    }
   ],
   "source": [
    "\n",
    "import numpy as np\n",
    "import matplotlib.pyplot as MPL\n",
    "import matplotlib.pyplot as plt\n",
    "new_image=np.random.randn(24,24)\n",
    "new_image=new_image.astype(int)\n",
    "print(new_image)\n",
    "#MPL.imshow(new_image)\n",
    "#MPL.show()\n",
    "#both work same\n",
    "plt.imshow(new_image)\n",
    "plt.show()"
   ]
  },
  {
   "cell_type": "code",
   "execution_count": 12,
   "metadata": {},
   "outputs": [
    {
     "name": "stdout",
     "output_type": "stream",
     "text": [
      "[[ 0  1  2]\n",
      " [ 3  4  5]\n",
      " [ 6  7  8]\n",
      " [ 9 10 11]\n",
      " [12 13 14]]\n"
     ]
    },
    {
     "data": {
      "text/plain": [
       "2"
      ]
     },
     "execution_count": 12,
     "metadata": {},
     "output_type": "execute_result"
    }
   ],
   "source": [
    "import numpy as np\n",
    "a=np.arange(15).reshape(3,5)\n",
    "print(a.reshape(5,3))\n",
    "a.ndim #show the dimension"
   ]
  },
  {
   "cell_type": "code",
   "execution_count": 11,
   "metadata": {},
   "outputs": [
    {
     "data": {
      "text/plain": [
       "4"
      ]
     },
     "execution_count": 11,
     "metadata": {},
     "output_type": "execute_result"
    }
   ],
   "source": [
    "a.itemsize #show the cell size"
   ]
  },
  {
   "cell_type": "code",
   "execution_count": 22,
   "metadata": {},
   "outputs": [
    {
     "name": "stdout",
     "output_type": "stream",
     "text": [
      "[[3.+0.j 2.+0.j 4.+0.j 5.+0.j]\n",
      " [3.+0.j 3.+0.j 2.+0.j 4.+0.j]]\n"
     ]
    }
   ],
   "source": [
    "a=np.array([[3,2,4,5],[3,3,2,4]], dtype=complex)\n",
    "print(a)"
   ]
  },
  {
   "cell_type": "code",
   "execution_count": 24,
   "metadata": {},
   "outputs": [
    {
     "name": "stdout",
     "output_type": "stream",
     "text": [
      "[3.  3.4 3.8 4.2 4.6]\n"
     ]
    }
   ],
   "source": [
    "c=np.arange(3,5,.4) #\n",
    "print(c)"
   ]
  },
  {
   "cell_type": "code",
   "execution_count": 28,
   "metadata": {},
   "outputs": [
    {
     "name": "stdout",
     "output_type": "stream",
     "text": [
      "[[ 5.     5.875  6.75 ]\n",
      " [ 7.625  8.5    9.375]\n",
      " [10.25  11.125 12.   ]]\n"
     ]
    }
   ],
   "source": [
    "d=np.linspace(5,12,9).reshape(3,3)\n",
    "print(d)"
   ]
  },
  {
   "cell_type": "code",
   "execution_count": 33,
   "metadata": {},
   "outputs": [
    {
     "name": "stdout",
     "output_type": "stream",
     "text": [
      "[[[ 0.          0.06339181  0.12652862  0.18915646]\n",
      "  [ 0.25102341  0.3118806   0.37148323  0.42959154]\n",
      "  [ 0.48597179  0.54039719  0.5926488   0.64251645]\n",
      "  [ 0.68979953  0.73430784  0.77586235  0.81429591]\n",
      "  [ 0.8494539   0.88119491  0.90939126  0.93392951]]\n",
      "\n",
      " [[ 0.95471098  0.97165205  0.98468459  0.99375617]\n",
      "  [ 0.9988303   0.99988657  0.99692072  0.9899447 ]\n",
      "  [ 0.97898656  0.96409038  0.94531608  0.92273918]\n",
      "  [ 0.89645051  0.8665558   0.83317531  0.79644332]\n",
      "  [ 0.75650759  0.71352875  0.66767969  0.61914485]]\n",
      "\n",
      " [[ 0.56811946  0.51480877  0.45942722  0.4021976 ]\n",
      "  [ 0.34335012  0.28312148  0.22175397  0.15949444]\n",
      "  [ 0.09659333  0.03330367 -0.03011996 -0.09342243]\n",
      "  [-0.1563491  -0.21864685 -0.28006507 -0.34035671]\n",
      "  [-0.39927925 -0.45659566 -0.51207538 -0.56549525]]\n",
      "\n",
      " [[-0.61664037 -0.66530501 -0.71129342 -0.75442061]\n",
      "  [-0.79451309 -0.83140959 -0.86496168 -0.89503441]\n",
      "  [-0.92150681 -0.94427238 -0.96323955 -0.97833203]\n",
      "  [-0.9894891  -0.99666589 -0.99983352 -0.99897925]\n",
      "  [-0.99410652 -0.98523494 -0.97240018 -0.95565387]]\n",
      "\n",
      " [[-0.93506338 -0.91071154 -0.8826963  -0.85113036]\n",
      "  [-0.81614069 -0.77786803 -0.73646635 -0.69210219]\n",
      "  [-0.644954   -0.59521143 -0.54307459 -0.4887532 ]\n",
      "  [-0.43246576 -0.3744387  -0.31490544 -0.25410545]\n",
      "  [-0.1922833  -0.12968768 -0.06657038 -0.0031853 ]]]\n"
     ]
    }
   ],
   "source": [
    "x=np.linspace(0,2*3.14,100)\n",
    "e=np.sin(x).reshape(5,5,4)\n",
    "print(e)"
   ]
  },
  {
   "cell_type": "code",
   "execution_count": 40,
   "metadata": {},
   "outputs": [
    {
     "name": "stdout",
     "output_type": "stream",
     "text": [
      "2\n"
     ]
    }
   ],
   "source": [
    "a=np.arange(1,2,3)\n",
    "b=np.arange(2,3,1)\n",
    "print(a @ b)"
   ]
  },
  {
   "cell_type": "code",
   "execution_count": 27,
   "metadata": {},
   "outputs": [
    {
     "name": "stdout",
     "output_type": "stream",
     "text": [
      "[[list([5, 6]) list([7, 8, 9, 7, 8, 9])]\n",
      " [list([5, 6, 5, 6, 5, 6]) list([7, 8, 9, 7, 8, 9, 7, 8, 9, 7, 8, 9])]]\n"
     ]
    }
   ],
   "source": [
    "a=np.array([[1,2],[3,4]])\n",
    "b=np.array([[5,6],[7,8,9]])\n",
    "print(a*b)# element wise product\n",
    "#print(a@b) #matrix multiplication \n"
   ]
  },
  {
   "cell_type": "code",
   "execution_count": 49,
   "metadata": {},
   "outputs": [
    {
     "name": "stdout",
     "output_type": "stream",
     "text": [
      "[[11  8]\n",
      " [17 12]]\n",
      "[[11  8]\n",
      " [17 12]]\n"
     ]
    }
   ],
   "source": [
    "a=np.array([[1,2],[3,2]])\n",
    "b=np.array([[3,2],[4,3]])\n",
    "print(a.dot(b))\n",
    "print(a@b) #both are same"
   ]
  },
  {
   "cell_type": "code",
   "execution_count": 56,
   "metadata": {},
   "outputs": [
    {
     "data": {
      "text/plain": [
       "array([[1., 1.],\n",
       "       [1., 1.]])"
      ]
     },
     "execution_count": 56,
     "metadata": {},
     "output_type": "execute_result"
    }
   ],
   "source": [
    "np.zeros((2,2),dtype=int)\n",
    "np.ones((2,2),dtype=float)"
   ]
  },
  {
   "cell_type": "code",
   "execution_count": 63,
   "metadata": {},
   "outputs": [
    {
     "data": {
      "text/plain": [
       "array([3, 5])"
      ]
     },
     "execution_count": 63,
     "metadata": {},
     "output_type": "execute_result"
    }
   ],
   "source": [
    "a=np.array([[1,2],[3,2]])\n",
    "b=np.array([[3,2],[4,3]])\n",
    "a.sum(axis=1)"
   ]
  },
  {
   "cell_type": "code",
   "execution_count": null,
   "metadata": {},
   "outputs": [],
   "source": []
  }
 ],
 "metadata": {
  "kernelspec": {
   "display_name": "Python 3",
   "language": "python",
   "name": "python3"
  },
  "language_info": {
   "codemirror_mode": {
    "name": "ipython",
    "version": 3
   },
   "file_extension": ".py",
   "mimetype": "text/x-python",
   "name": "python",
   "nbconvert_exporter": "python",
   "pygments_lexer": "ipython3",
   "version": "3.7.6"
  }
 },
 "nbformat": 4,
 "nbformat_minor": 4
}
